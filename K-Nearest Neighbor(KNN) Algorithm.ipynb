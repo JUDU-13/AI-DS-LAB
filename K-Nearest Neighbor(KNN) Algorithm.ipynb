{
 "cells": [
  {
   "cell_type": "code",
   "execution_count": 8,
   "metadata": {},
   "outputs": [
    {
     "name": "stdout",
     "output_type": "stream",
     "text": [
      "Enter the number for K value:5\n",
      "Number of datas for Preiction is: 30\n",
      "Prediction Accuracy: 100.0\n",
      "Actual: [1 0 2 1 1 0 1 2 1 1 2 0 0 0 0 1 2 1 1 2 0 2 0 2 2 2 2 2 0 0]\n",
      "Predicted: [1 0 2 1 1 0 1 2 1 1 2 0 0 0 0 1 2 1 1 2 0 2 0 2 2 2 2 2 0 0]\n"
     ]
    },
    {
     "data": {
      "image/png": "[encoded data removed]",
      "text/plain": [
       "<matplotlib.figure.Figure at 0x7f097969c4a8>"
      ]
     },
     "metadata": {},
     "output_type": "display_data"
    }
   ],
   "source": [
    "from sklearn.neighbors import KNeighborsClassifier\n",
    "from sklearn.model_selection import train_test_split\n",
    "from sklearn.datasets import load_iris\n",
    "import matplotlib.pyplot as plt\n",
    "import numpy as np\n",
    "\n",
    "# Use Iris.csv Dataset\n",
    "\n",
    "# Loading data\n",
    "irisData = load_iris()\n",
    " \n",
    "# Create feature and target arrays\n",
    "X = irisData.data\n",
    "y = irisData.target\n",
    "\n",
    "# Split into training and test set\n",
    "X_train, X_test, y_train, y_test = train_test_split(X, y, test_size = 0.2, random_state=42)\n",
    "\n",
    "#when test_size is low more training data (its best to stay in between 0.2 and 0.3)\n",
    "\n",
    "a=int(input(\"Enter the number for K value:\"))\n",
    "knn = KNeighborsClassifier(n_neighbors=a)\n",
    "print(\"Number of datas for Preiction is:\",len(X_test))\n",
    "\n",
    "#training\n",
    "knn.fit(X_train, y_train)\n",
    "print(\"Prediction Accuracy:\",knn.score(X_test, y_test)*100)\n",
    "\n",
    "# Predict on dataset which model has not seen before\n",
    "x=knn.predict(X_test)\n",
    "plt.ylabel(\"PREDICTION\")\n",
    "plt.xlabel(\"SlNo\")\n",
    "plt.scatter(np.arange(0,len(x)),x,color='r')\n",
    "print(\"Actual:\",y_test)\n",
    "print(\"Predicted:\",knn.predict(X_test))"
   ]
  }
 ],
 "metadata": {
  "kernelspec": {
   "display_name": "Python 3",
   "language": "python",
   "name": "python3"
  },
  "language_info": {
   "codemirror_mode": {
    "name": "ipython",
    "version": 3
   },
   "file_extension": ".py",
   "mimetype": "text/x-python",
   "name": "python",
   "nbconvert_exporter": "python",
   "pygments_lexer": "ipython3",
   "version": "3.6.9"
  }
 },
 "nbformat": 4,
 "nbformat_minor": 2
}
