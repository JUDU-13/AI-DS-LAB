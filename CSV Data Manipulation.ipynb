{
 "cells": [
  {
   "cell_type": "code",
   "execution_count": 2,
   "metadata": {},
   "outputs": [
    {
     "name": "stdout",
     "output_type": "stream",
     "text": [
      "      Name  Age\n",
      "0   Jaidon   21\n",
      "1     Jaya   20\n",
      "2     Hari   20\n",
      "3     Jack   21\n",
      "4      Tom   20\n",
      "5      Anu   21\n",
      "6  Christy   19\n",
      "\n",
      "\n",
      "Sorted Data(Name):\n",
      "      Name  Age\n",
      "5      Anu   21\n",
      "6  Christy   19\n",
      "2     Hari   20\n",
      "3     Jack   21\n",
      "0   Jaidon   21\n",
      "1     Jaya   20\n",
      "4      Tom   20\n",
      "\n",
      "\n",
      "Sorted Data(Age):\n",
      "      Name  Age\n",
      "6  Christy   19\n",
      "1     Jaya   20\n",
      "2     Hari   20\n",
      "4      Tom   20\n",
      "0   Jaidon   21\n",
      "3     Jack   21\n",
      "5      Anu   21\n"
     ]
    }
   ],
   "source": [
    "# Use Demo.csv Dataset\n",
    "import pandas as pd\n",
    "file=pd.read_csv('Demo.csv')\n",
    "print(file)\n",
    "print(f\"\\n\\nSorted Data(Name):\\n{file.sort_values(['Name'])}\")\n",
    "print(f\"\\n\\nSorted Data(Age):\\n{file.sort_values(['Age'])}\")"
   ]
  }
 ],
 "metadata": {
  "kernelspec": {
   "display_name": "Python 3",
   "language": "python",
   "name": "python3"
  },
  "language_info": {
   "codemirror_mode": {
    "name": "ipython",
    "version": 3
   },
   "file_extension": ".py",
   "mimetype": "text/x-python",
   "name": "python",
   "nbconvert_exporter": "python",
   "pygments_lexer": "ipython3",
   "version": "3.10.0"
  },
  "vscode": {
   "interpreter": {
    "hash": "38ee9951ba56c9c9fe4685af4237f1eee8f6ab253bef24e2be2405bc7ad711a6"
   }
  }
 },
 "nbformat": 4,
 "nbformat_minor": 2
}
