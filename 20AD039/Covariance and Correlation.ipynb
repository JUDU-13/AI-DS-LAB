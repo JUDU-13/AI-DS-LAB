{
 "cells": [
  {
   "cell_type": "code",
   "execution_count": 1,
   "metadata": {},
   "outputs": [
    {
     "name": "stdout",
     "output_type": "stream",
     "text": [
      "Sepal Length & Petal Width of Iris Flower\n",
      "Covariance: 0.5162706935123044\n",
      "Correlation:0.8179411262715757\n"
     ]
    }
   ],
   "source": [
    "from sklearn.datasets import load_iris\n",
    "import numpy as np\n",
    "import pandas as pd\n",
    "\n",
    "data = load_iris() #download csv file for easy coding\n",
    "df = pd.DataFrame(data=data.data, columns=data.feature_names)\n",
    "\n",
    "sam1 = df.loc[:, \"sepal length (cm)\"]\n",
    "sam2 = df.loc[:, \"petal width (cm)\"]\n",
    "\n",
    "cov =(np.cov(sam1, sam2)[0][1])\n",
    "cor =(np.corrcoef(sam1, sam2)[0][1])\n",
    "print(f\"Sepal Length & Petal Width of Iris Flower\\nCovariance: {cov}\\nCorrelation:{cor}\")"
   ]
  }
 ],
 "metadata": {
  "kernelspec": {
   "display_name": "Python 3",
   "language": "python",
   "name": "python3"
  },
  "language_info": {
   "codemirror_mode": {
    "name": "ipython",
    "version": 3
   },
   "file_extension": ".py",
   "mimetype": "text/x-python",
   "name": "python",
   "nbconvert_exporter": "python",
   "pygments_lexer": "ipython3",
   "version": "3.6.9"
  }
 },
 "nbformat": 4,
 "nbformat_minor": 2
}
