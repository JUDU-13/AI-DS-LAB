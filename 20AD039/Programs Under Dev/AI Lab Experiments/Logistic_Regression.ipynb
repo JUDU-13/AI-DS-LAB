{
 "cells": [
  {
   "cell_type": "code",
   "execution_count": 11,
   "id": "2d5289fd",
   "metadata": {},
   "outputs": [],
   "source": [
    "import numpy\n",
    "from sklearn import linear_model"
   ]
  },
  {
   "cell_type": "code",
   "execution_count": 12,
   "id": "28ae5857",
   "metadata": {},
   "outputs": [],
   "source": [
    "#Reshaped for Logistic function.\n",
    "X = numpy.array([3.78, 2.44, 2.09, 0.14, 1.72, 1.65, 4.92, 4.37, 4.96, 4.52, 3.69, 5.88]).reshape(-1,1)\n",
    "y = numpy.array([0, 0, 0, 0, 0, 0, 1, 1, 1, 1, 1, 1])"
   ]
  },
  {
   "cell_type": "code",
   "execution_count": 13,
   "id": "7a50bcf8",
   "metadata": {},
   "outputs": [],
   "source": [
    "logr = linear_model.LogisticRegression().fit(X,y)"
   ]
  },
  {
   "cell_type": "code",
   "execution_count": 14,
   "id": "9efad267",
   "metadata": {},
   "outputs": [
    {
     "name": "stdout",
     "output_type": "stream",
     "text": [
      "Cancerous\n"
     ]
    }
   ],
   "source": [
    "#predict if tumor is cancerous where the size is 4.56mm:\n",
    "pred = logr.predict(numpy.array([4.56]).reshape(-1,1))\n",
    "print('Cancerous') if pred == 1 else print('Non-Cancerous')"
   ]
  },
  {
   "cell_type": "code",
   "execution_count": null,
   "id": "e8ac146a",
   "metadata": {},
   "outputs": [],
   "source": []
  }
 ],
 "metadata": {
  "kernelspec": {
   "display_name": "Python 3 (ipykernel)",
   "language": "python",
   "name": "python3"
  },
  "language_info": {
   "codemirror_mode": {
    "name": "ipython",
    "version": 3
   },
   "file_extension": ".py",
   "mimetype": "text/x-python",
   "name": "python",
   "nbconvert_exporter": "python",
   "pygments_lexer": "ipython3",
   "version": "3.10.8"
  }
 },
 "nbformat": 4,
 "nbformat_minor": 5
}
