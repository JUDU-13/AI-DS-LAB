{
 "cells": [
  {
   "cell_type": "code",
   "execution_count": 1,
   "id": "5215977a",
   "metadata": {},
   "outputs": [],
   "source": [
    "from sklearn import datasets\n",
    "iris = datasets.load_iris()\n",
    "x, y = iris.data, iris.target"
   ]
  },
  {
   "cell_type": "code",
   "execution_count": 2,
   "id": "90964d2a",
   "metadata": {},
   "outputs": [],
   "source": [
    "from sklearn.model_selection import train_test_split\n",
    "x_train, x_test, y_train, y_test = train_test_split(x, y, test_size=0.2, random_state=123)"
   ]
  },
  {
   "cell_type": "code",
   "execution_count": 3,
   "id": "b2d68e04",
   "metadata": {},
   "outputs": [],
   "source": [
    "from sklearn.naive_bayes import GaussianNB\n",
    "NB = GaussianNB().fit(x_train, y_train)\n",
    "pred = NB.predict(x_test)"
   ]
  },
  {
   "cell_type": "code",
   "execution_count": 4,
   "id": "f73c8d7b",
   "metadata": {},
   "outputs": [
    {
     "name": "stdout",
     "output_type": "stream",
     "text": [
      "Confusion Matrix:\n",
      " [[13  0  0]\n",
      " [ 0  6  0]\n",
      " [ 0  1 10]]\n",
      "\n",
      "Report:\n",
      "               precision    recall  f1-score   support\n",
      "\n",
      "           0       1.00      1.00      1.00        13\n",
      "           1       0.86      1.00      0.92         6\n",
      "           2       1.00      0.91      0.95        11\n",
      "\n",
      "    accuracy                           0.97        30\n",
      "   macro avg       0.95      0.97      0.96        30\n",
      "weighted avg       0.97      0.97      0.97        30\n",
      "\n"
     ]
    }
   ],
   "source": [
    "from sklearn.metrics import confusion_matrix, classification_report\n",
    "print(\"Confusion Matrix:\\n\", confusion_matrix(y_test, pred))\n",
    "print(\"\\nReport:\\n\", classification_report(y_test, pred))"
   ]
  },
  {
   "cell_type": "code",
   "execution_count": 5,
   "id": "23dfa3ce",
   "metadata": {},
   "outputs": [
    {
     "data": {
      "text/plain": [
       "\"\\n# Metrics in one by one format \\nfrom sklearn.metrics import make_scorer, accuracy_score,precision_score\\nfrom sklearn.metrics import classification_report\\nfrom sklearn.metrics import confusion_matrix\\nfrom sklearn.metrics import accuracy_score ,precision_score,recall_score,f1_score\\n\\ncm = confusion_matrix(y_test, pred)\\naccuracy = accuracy_score(y_test,pred)\\nprecision =precision_score(y_test, pred, average='micro')\\nrecall =  recall_score(y_test, pred, average='micro')\\nf1 = f1_score(y_test, pred, average='micro')\\nprint('Confusion matrix for Naive Bayes\\n',cm)\\nprint('accuracy: ' , round(accuracy*100, 2))\\nprint('precision:', round(precision*100, 2))\\nprint('recall:' ,round(recall*100, 2))\\n\""
      ]
     },
     "execution_count": 5,
     "metadata": {},
     "output_type": "execute_result"
    }
   ],
   "source": [
    "\"\"\"\n",
    "# Metrics in one by one format \n",
    "from sklearn.metrics import make_scorer, accuracy_score,precision_score\n",
    "from sklearn.metrics import classification_report\n",
    "from sklearn.metrics import confusion_matrix\n",
    "from sklearn.metrics import accuracy_score ,precision_score,recall_score,f1_score\n",
    "\n",
    "cm = confusion_matrix(y_test, pred)\n",
    "accuracy = accuracy_score(y_test,pred)\n",
    "precision =precision_score(y_test, pred, average='micro')\n",
    "recall =  recall_score(y_test, pred, average='micro')\n",
    "f1 = f1_score(y_test, pred, average='micro')\n",
    "print('Confusion matrix for Naive Bayes\\n',cm)\n",
    "print('accuracy: ' , round(accuracy*100, 2))\n",
    "print('precision:', round(precision*100, 2))\n",
    "print('recall:' ,round(recall*100, 2))\n",
    "\"\"\""
   ]
  },
  {
   "cell_type": "code",
   "execution_count": null,
   "id": "2b2db466",
   "metadata": {},
   "outputs": [],
   "source": []
  }
 ],
 "metadata": {
  "kernelspec": {
   "display_name": "Python 3 (ipykernel)",
   "language": "python",
   "name": "python3"
  },
  "language_info": {
   "codemirror_mode": {
    "name": "ipython",
    "version": 3
   },
   "file_extension": ".py",
   "mimetype": "text/x-python",
   "name": "python",
   "nbconvert_exporter": "python",
   "pygments_lexer": "ipython3",
   "version": "3.10.8"
  }
 },
 "nbformat": 4,
 "nbformat_minor": 5
}
