{
 "cells": [
  {
   "cell_type": "markdown",
   "id": "f744dcea",
   "metadata": {},
   "source": [
    "## Average human body temperature & heart rate from a standard dataset"
   ]
  },
  {
   "cell_type": "code",
   "execution_count": 1,
   "id": "c1749964",
   "metadata": {},
   "outputs": [
    {
     "data": {
      "text/html": [
       "<div>\n",
       "<style scoped>\n",
       "    .dataframe tbody tr th:only-of-type {\n",
       "        vertical-align: middle;\n",
       "    }\n",
       "\n",
       "    .dataframe tbody tr th {\n",
       "        vertical-align: top;\n",
       "    }\n",
       "\n",
       "    .dataframe thead th {\n",
       "        text-align: right;\n",
       "    }\n",
       "</style>\n",
       "<table border=\"1\" class=\"dataframe\">\n",
       "  <thead>\n",
       "    <tr style=\"text-align: right;\">\n",
       "      <th></th>\n",
       "      <th>body temperature</th>\n",
       "      <th>gender</th>\n",
       "      <th>heart rate</th>\n",
       "    </tr>\n",
       "  </thead>\n",
       "  <tbody>\n",
       "    <tr>\n",
       "      <th>0</th>\n",
       "      <td>35.722</td>\n",
       "      <td>male</td>\n",
       "      <td>70</td>\n",
       "    </tr>\n",
       "    <tr>\n",
       "      <th>1</th>\n",
       "      <td>35.944</td>\n",
       "      <td>male</td>\n",
       "      <td>71</td>\n",
       "    </tr>\n",
       "  </tbody>\n",
       "</table>\n",
       "</div>"
      ],
      "text/plain": [
       "   body temperature gender  heart rate\n",
       "0            35.722   male          70\n",
       "1            35.944   male          71"
      ]
     },
     "execution_count": 1,
     "metadata": {},
     "output_type": "execute_result"
    }
   ],
   "source": [
    "import pandas as pd\n",
    "\n",
    "df = pd.read_csv('body_temp.csv')\n",
    "df.head(2)"
   ]
  },
  {
   "cell_type": "code",
   "execution_count": 2,
   "id": "f6d4566b",
   "metadata": {},
   "outputs": [],
   "source": [
    "temp = df.loc[:, 'body temperature']\n",
    "heart_rate = df.loc[:, 'heart rate']"
   ]
  },
  {
   "cell_type": "code",
   "execution_count": 4,
   "id": "88aba168",
   "metadata": {},
   "outputs": [
    {
     "name": "stdout",
     "output_type": "stream",
     "text": [
      "Average Temperature: 36.81\n",
      "Average Heart Rate: 73.76\n"
     ]
    }
   ],
   "source": [
    "tp = round(temp.mean(), 2)\n",
    "hr = round(heart_rate.mean(), 2)\n",
    "\n",
    "print(f'Average Temperature: {tp}\\nAverage Heart Rate: {hr}')"
   ]
  },
  {
   "cell_type": "code",
   "execution_count": null,
   "id": "f3ac4e59",
   "metadata": {},
   "outputs": [],
   "source": []
  }
 ],
 "metadata": {
  "kernelspec": {
   "display_name": "Python 3 (ipykernel)",
   "language": "python",
   "name": "python3"
  },
  "language_info": {
   "codemirror_mode": {
    "name": "ipython",
    "version": 3
   },
   "file_extension": ".py",
   "mimetype": "text/x-python",
   "name": "python",
   "nbconvert_exporter": "python",
   "pygments_lexer": "ipython3",
   "version": "3.10.8"
  }
 },
 "nbformat": 4,
 "nbformat_minor": 5
}
