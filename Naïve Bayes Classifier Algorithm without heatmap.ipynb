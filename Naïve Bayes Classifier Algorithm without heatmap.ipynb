{
 "cells": [
  {
   "cell_type": "code",
   "execution_count": 2,
   "metadata": {},
   "outputs": [
    {
     "name": "stdout",
     "output_type": "stream",
     "text": [
      "[1 0 0 1 1 0 0 0 1 1 1 0 1 0 1 0 1 1 1 0 1 1 0 1 1 1 1 1 1 0 1 1 1 1 1 1 0\n",
      " 1 0 1 1 0 1 1 1 1 1 1 1 1 0 0 1 1 1 1 1 0 0 1 1 0 0 1 1 1 0 0 1 1 0 0 1 0\n",
      " 1 1 1 1 1 1 0 1 1 0 0 0 0 0 1 1 1 1 1 1 1 1 0 0 1 0 0 1 0 0 1 1 1 0 1 1 0\n",
      " 1 1 0]\n",
      "Confusion matrix\n",
      " [[40  3]\n",
      " [ 0 71]]\n",
      "True Positive:  40\n",
      "True Negative:  71\n",
      "False Negative:  3\n",
      "False Positive:  0\n",
      "Accuracy =  0.9736842105263158\n",
      "Precision =  1.0\n",
      "Recall =  0.9302325581395349\n"
     ]
    }
   ],
   "source": [
    "from sklearn.datasets import load_breast_cancer\n",
    "from sklearn.metrics import confusion_matrix\n",
    "b_cancer =load_breast_cancer()\n",
    "\n",
    "X = b_cancer.data\n",
    "y = b_cancer.target\n",
    " \n",
    "from sklearn.model_selection import train_test_split\n",
    "X_train, X_test, y_train, y_test = train_test_split(X, y, test_size = 0.2, random_state = 42)\n",
    "\n",
    "from sklearn.naive_bayes import GaussianNB\n",
    "gnb = GaussianNB()\n",
    "gnb.fit(X_train, y_train)\n",
    "\n",
    "y_pred = gnb.predict(X_test)\n",
    "print(y_pred)\n",
    "\n",
    "from sklearn.metrics import confusion_matrix\n",
    "import seaborn as sn\n",
    "import matplotlib.pyplot as plt\n",
    "cm = confusion_matrix(y_test, y_pred)\n",
    "print('Confusion matrix\\n', cm)\n",
    "\n",
    "TP =  cm[0,0]\n",
    "print(\"True Positive: \",TP)\n",
    "TN =  cm[1,1]\n",
    "print(\"True Negative: \",TN)\n",
    "FN =  cm[0,1]\n",
    "print(\"False Negative: \",FN)\n",
    "FP =  cm[1,0]\n",
    "print(\"False Positive: \",FP)\n",
    "\n",
    "accuracy = ((TP+TN)/(TP+FN+TN+FP))\n",
    "print(\"Accuracy = \",accuracy)\n",
    "precision = (TP/(TP+FP))\n",
    "print(\"Precision = \",precision)\n",
    "recall = (TP/(TP+FN))\n",
    "print(\"Recall = \",recall)"
   ]
  }
 ],
 "metadata": {
  "kernelspec": {
   "display_name": "Python 3",
   "language": "python",
   "name": "python3"
  },
  "language_info": {
   "codemirror_mode": {
    "name": "ipython",
    "version": 3
   },
   "file_extension": ".py",
   "mimetype": "text/x-python",
   "name": "python",
   "nbconvert_exporter": "python",
   "pygments_lexer": "ipython3",
   "version": "3.10.0"
  },
  "vscode": {
   "interpreter": {
    "hash": "38ee9951ba56c9c9fe4685af4237f1eee8f6ab253bef24e2be2405bc7ad711a6"
   }
  }
 },
 "nbformat": 4,
 "nbformat_minor": 2
}
